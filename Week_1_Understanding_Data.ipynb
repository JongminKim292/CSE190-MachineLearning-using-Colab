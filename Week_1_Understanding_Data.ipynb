{
  "nbformat": 4,
  "nbformat_minor": 0,
  "metadata": {
    "kernelspec": {
      "display_name": "Python 3",
      "language": "python",
      "name": "python3"
    },
    "language_info": {
      "codemirror_mode": {
        "name": "ipython",
        "version": 3
      },
      "file_extension": ".py",
      "mimetype": "text/x-python",
      "name": "python",
      "nbconvert_exporter": "python",
      "pygments_lexer": "ipython3",
      "version": "3.6.8"
    },
    "toc": {
      "base_numbering": 1,
      "nav_menu": {},
      "number_sections": false,
      "sideBar": false,
      "skip_h1_title": false,
      "title_cell": "Table of Contents",
      "title_sidebar": "Contents",
      "toc_cell": false,
      "toc_position": {},
      "toc_section_display": false,
      "toc_window_display": false
    },
    "colab": {
      "name": "Week_1_Understanding_Data.ipynb",
      "provenance": [],
      "collapsed_sections": []
    }
  },
  "cells": [
    {
      "cell_type": "markdown",
      "metadata": {
        "id": "8HhoaZMxrZXZ"
      },
      "source": [
        "# Home Loan Prediction\n",
        "This dataset `home_loans_1.csv` is about home loan applications in San Diego county, where each row of the dataset is an individual loan application. This data could be used to build a machine learning model to predict whether to accept or reject a loan application.\n",
        "\n",
        "**Your goal in this assignment is to understand the data and how biases can emerge in datasets.**\n",
        "\n",
        "\n",
        "## Part 1: Data Exploration\n",
        "\n",
        "Upload the .zip file ('data.zip') included in the homework assignment. I **strongly** recommend using the following code rather than the Colab web interface for uploading files, particularly for those with slower internet connections. "
      ]
    },
    {
      "cell_type": "code",
      "metadata": {
        "colab": {
          "resources": {
            "http://localhost:8080/nbextensions/google.colab/files.js": {
              "data": "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",
              "ok": true,
              "headers": [
                [
                  "content-type",
                  "application/javascript"
                ]
              ],
              "status": 200,
              "status_text": ""
            }
          },
          "base_uri": "https://localhost:8080/",
          "height": 73
        },
        "id": "bduXgr6K4QF5",
        "outputId": "12a54d18-01b5-41da-f7f7-98903ffe41ae"
      },
      "source": [
        "from google.colab import files\n",
        "uploaded = files.upload()"
      ],
      "execution_count": 2,
      "outputs": [
        {
          "output_type": "display_data",
          "data": {
            "text/html": [
              "\n",
              "     <input type=\"file\" id=\"files-4f1caa7e-227c-4d64-97a0-0608d3191c04\" name=\"files[]\" multiple disabled\n",
              "        style=\"border:none\" />\n",
              "     <output id=\"result-4f1caa7e-227c-4d64-97a0-0608d3191c04\">\n",
              "      Upload widget is only available when the cell has been executed in the\n",
              "      current browser session. Please rerun this cell to enable.\n",
              "      </output>\n",
              "      <script src=\"/nbextensions/google.colab/files.js\"></script> "
            ],
            "text/plain": [
              "<IPython.core.display.HTML object>"
            ]
          },
          "metadata": {}
        },
        {
          "output_type": "stream",
          "name": "stdout",
          "text": [
            "Saving data.zip to data.zip\n"
          ]
        }
      ]
    },
    {
      "cell_type": "code",
      "metadata": {
        "id": "rH4-NUYa4im1"
      },
      "source": [
        "import zipfile\n",
        "import io\n",
        "zf = zipfile.ZipFile(io.BytesIO(uploaded['data.zip']),\"r\")\n",
        "zf.extractall()"
      ],
      "execution_count": 3,
      "outputs": []
    },
    {
      "cell_type": "markdown",
      "metadata": {
        "id": "A95MpbULaY4G"
      },
      "source": [
        "The first few exercises will get you used to looking at the data using `pandas`. Pandas is a widely used library in python for manipulating data. \n",
        "\n",
        "> *Optional: Why? Datasets can consume a _lot_ of space in your computer's memory and traditional python data structures like lists or dictionaries will become painfully slow as we add thousands of rows of data. We use a specialized dataset library `pandas` which has a specialized data structure called a `dataframe` designed to be ultra fast & efficient. Documentation is here: https://pandas.pydata.org/pandas-docs/stable/*\n",
        "\n"
      ]
    },
    {
      "cell_type": "code",
      "metadata": {
        "id": "K0ZlYOlqZJEd"
      },
      "source": [
        "import pandas as pd # import pandas library\n",
        "df = pd.read_csv('data/home_loans_1.csv', low_memory=False) # read the csv file into a pandas dataframe object"
      ],
      "execution_count": 4,
      "outputs": []
    },
    {
      "cell_type": "markdown",
      "metadata": {
        "id": "j3wr0IcPrZXf"
      },
      "source": [
        "\n",
        "\n",
        "To understand what kind of data was collected, `pandas` has some handy commands:\n",
        "- `df.head()` will show us the first 5 rows of our dataset. You can also specify the first N rows, like `df.head(18)` will show us the first 18 rows.\n",
        "- `df.sample(10)` will show us 10 randomly sampled rows of our dataset\n",
        "- `df.shape` will tell us how many rows and how many columns are in the dataset\n",
        "- `df.columns` will list the names of all columns in the dataset\n",
        "- `df.describe()` will give you summary statistics about all numerical columns in the dataset\n",
        "\n",
        "\n",
        "\n",
        "### Question 1.A:  How many rows are in this dataset? How many columns?\n",
        "_Double click to write your answer question here. Show your work in code below if applicable._\n",
        "\n",
        "12 Rows and 60122 Columns"
      ]
    },
    {
      "cell_type": "code",
      "metadata": {
        "id": "OdpPy6_whvBN",
        "outputId": "dde2a372-bcc9-4f65-b31f-017ccd65678c",
        "colab": {
          "base_uri": "https://localhost:8080/"
        }
      },
      "source": [
        "#12 Rows and 60122 Columns\n",
        "\n",
        "df.shape\n"
      ],
      "execution_count": 8,
      "outputs": [
        {
          "output_type": "execute_result",
          "data": {
            "text/plain": [
              "(60122, 12)"
            ]
          },
          "metadata": {},
          "execution_count": 8
        }
      ]
    },
    {
      "cell_type": "markdown",
      "metadata": {
        "id": "Ow5emCJprZXg"
      },
      "source": [
        "### Question 1.B: One of the columns in the dataset is the outcome value for each application, the value we will try to predict. Which column is that?\n",
        "_Double click to write your answer question here. Show your work in code below if applicable._\n",
        "\n",
        "Column 6 (loan_approved)"
      ]
    },
    {
      "cell_type": "code",
      "metadata": {
        "id": "BscEuPb-rZXh",
        "outputId": "1088556a-5dea-4e35-aec9-fa15c4c888af",
        "colab": {
          "base_uri": "https://localhost:8080/",
          "height": 224
        }
      },
      "source": [
        "df.head(5)\n"
      ],
      "execution_count": 10,
      "outputs": [
        {
          "output_type": "execute_result",
          "data": {
            "text/html": [
              "<div>\n",
              "<style scoped>\n",
              "    .dataframe tbody tr th:only-of-type {\n",
              "        vertical-align: middle;\n",
              "    }\n",
              "\n",
              "    .dataframe tbody tr th {\n",
              "        vertical-align: top;\n",
              "    }\n",
              "\n",
              "    .dataframe thead th {\n",
              "        text-align: right;\n",
              "    }\n",
              "</style>\n",
              "<table border=\"1\" class=\"dataframe\">\n",
              "  <thead>\n",
              "    <tr style=\"text-align: right;\">\n",
              "      <th></th>\n",
              "      <th>town_name</th>\n",
              "      <th>loan_amount_000s</th>\n",
              "      <th>applicant_income_000s</th>\n",
              "      <th>is_hoepa_loan</th>\n",
              "      <th>occupied_by_owner</th>\n",
              "      <th>loan_purpose_name</th>\n",
              "      <th>loan_approved</th>\n",
              "      <th>denial_reason</th>\n",
              "      <th>co_applicant_sex</th>\n",
              "      <th>co_applicant_race</th>\n",
              "      <th>applicant_sex</th>\n",
              "      <th>applicant_race</th>\n",
              "    </tr>\n",
              "  </thead>\n",
              "  <tbody>\n",
              "    <tr>\n",
              "      <th>0</th>\n",
              "      <td>El Cajon</td>\n",
              "      <td>607.322158</td>\n",
              "      <td>43.881427</td>\n",
              "      <td>1</td>\n",
              "      <td>1</td>\n",
              "      <td>Home purchase</td>\n",
              "      <td>0</td>\n",
              "      <td>Collateral</td>\n",
              "      <td>Male</td>\n",
              "      <td>White</td>\n",
              "      <td>Male</td>\n",
              "      <td>White</td>\n",
              "    </tr>\n",
              "    <tr>\n",
              "      <th>1</th>\n",
              "      <td>El Cajon</td>\n",
              "      <td>524.421187</td>\n",
              "      <td>44.530808</td>\n",
              "      <td>1</td>\n",
              "      <td>1</td>\n",
              "      <td>Home purchase</td>\n",
              "      <td>1</td>\n",
              "      <td>NaN</td>\n",
              "      <td>Male</td>\n",
              "      <td>White</td>\n",
              "      <td>Female</td>\n",
              "      <td>White</td>\n",
              "    </tr>\n",
              "    <tr>\n",
              "      <th>2</th>\n",
              "      <td>El Cajon</td>\n",
              "      <td>595.130929</td>\n",
              "      <td>57.733958</td>\n",
              "      <td>1</td>\n",
              "      <td>1</td>\n",
              "      <td>Home purchase</td>\n",
              "      <td>1</td>\n",
              "      <td>NaN</td>\n",
              "      <td>No co-applicant</td>\n",
              "      <td>No co-applicant</td>\n",
              "      <td>Male</td>\n",
              "      <td>Asian</td>\n",
              "    </tr>\n",
              "    <tr>\n",
              "      <th>3</th>\n",
              "      <td>El Cajon</td>\n",
              "      <td>595.332174</td>\n",
              "      <td>56.693380</td>\n",
              "      <td>1</td>\n",
              "      <td>1</td>\n",
              "      <td>Refinancing</td>\n",
              "      <td>1</td>\n",
              "      <td>NaN</td>\n",
              "      <td>No co-applicant</td>\n",
              "      <td>No co-applicant</td>\n",
              "      <td>Information not provided by applicant in mail,...</td>\n",
              "      <td>Information not provided by applicant in mail,...</td>\n",
              "    </tr>\n",
              "    <tr>\n",
              "      <th>4</th>\n",
              "      <td>El Cajon</td>\n",
              "      <td>666.251820</td>\n",
              "      <td>49.781610</td>\n",
              "      <td>1</td>\n",
              "      <td>1</td>\n",
              "      <td>Home improvement</td>\n",
              "      <td>0</td>\n",
              "      <td>Credit history</td>\n",
              "      <td>No co-applicant</td>\n",
              "      <td>No co-applicant</td>\n",
              "      <td>Male</td>\n",
              "      <td>White</td>\n",
              "    </tr>\n",
              "  </tbody>\n",
              "</table>\n",
              "</div>"
            ],
            "text/plain": [
              "  town_name  ...                                     applicant_race\n",
              "0  El Cajon  ...                                              White\n",
              "1  El Cajon  ...                                              White\n",
              "2  El Cajon  ...                                              Asian\n",
              "3  El Cajon  ...  Information not provided by applicant in mail,...\n",
              "4  El Cajon  ...                                              White\n",
              "\n",
              "[5 rows x 12 columns]"
            ]
          },
          "metadata": {},
          "execution_count": 10
        }
      ]
    },
    {
      "cell_type": "markdown",
      "metadata": {
        "id": "DizfexFSrZXh"
      },
      "source": [
        "### Question 1.C: What reasons were given in this dataset for denying a loan application?\n",
        "Hint: Try looking up the pandas command to list the unique values in a column.\n",
        "\n",
        "_Double click to write your answer question here. Show your work in code below if applicable._\n",
        "\n",
        "We can predict what factor will affect to deny. We want to predict what factor affects loan approval, so we also want to know what factor affects loan denial"
      ]
    },
    {
      "cell_type": "code",
      "metadata": {
        "id": "eJcI7R1QrZXh",
        "outputId": "25c477b7-1cd2-40d7-c48c-f7a143e696a6",
        "colab": {
          "base_uri": "https://localhost:8080/"
        }
      },
      "source": [
        "df['denial_reason'].unique()"
      ],
      "execution_count": 45,
      "outputs": [
        {
          "output_type": "execute_result",
          "data": {
            "text/plain": [
              "array(['Collateral', nan, 'Credit history', 'Debt-to-income ratio',\n",
              "       'Credit application incomplete', 'Mortgage insurance denied',\n",
              "       'Unverifiable information',\n",
              "       'Insufficient cash (downpayment, closing costs)', 'Other',\n",
              "       'Employment history'], dtype=object)"
            ]
          },
          "metadata": {},
          "execution_count": 45
        }
      ]
    },
    {
      "cell_type": "markdown",
      "metadata": {
        "id": "V1_RUsGzrZXi"
      },
      "source": [
        "### Question 1.D: Given the denial reasons and the columns in this dataset, think about what information you _don't_ have about each application. Rank your top 3 _missing_ pieces of information about each application that could help you better predict the application's loan outcome.\n",
        "_Double click to write your answer question here. Show your work in code below if applicable._\n",
        "#1.  stability of income (job)\n",
        "#2.  current value of their own property (and bank balanece)\n",
        "#3.  desired loan term"
      ]
    },
    {
      "cell_type": "code",
      "metadata": {
        "id": "oPCEViuLrZXi"
      },
      "source": [
        ""
      ],
      "execution_count": 13,
      "outputs": []
    },
    {
      "cell_type": "markdown",
      "metadata": {
        "id": "AilZ0niya-d7"
      },
      "source": [
        "## Part 2: Understanding Bias in Datasets\n",
        "\n",
        "### Question 2.A: Does the likelihood of loan approval differ by town in this data?\n",
        "\n",
        "You may find the groupby function useful for answering this question.\n",
        "\n",
        "_Double click to write your answer question here. Show your work in code below if applicable._\n",
        "\n",
        "It doesn't look like that loan approval differ by town. result following is show that each town's approval rate \n",
        "\n",
        "Carlsbad 72.5 %\n",
        "\n",
        "Chula Vista 73.2 %\n",
        "\n",
        "Coronado 72.2 %\n",
        "\n",
        "Del Mar 73.3 %\n",
        "\n",
        "El Cajon 73.7 %\n",
        "\n",
        "Escondido 73.4 %\n",
        "\n",
        "La Mesa 71.9 %\n",
        "\n",
        "National City 72.9 %\n",
        "\n",
        "Oceanside 72.4 %\n",
        "\n",
        "Poway 72.1 %\n",
        "\n",
        "San Diego 73.4 %\n",
        "\n",
        "Solana Beach 72.4 %\n",
        "\n",
        "since approval rate by each town is distributed between 72% and 73%, it is not significantly different by town."
      ]
    },
    {
      "cell_type": "code",
      "metadata": {
        "id": "V3_7jrpUdgcr",
        "outputId": "5704b52f-cca4-4cb1-a803-ad40f6b64d4d",
        "colab": {
          "base_uri": "https://localhost:8080/"
        }
      },
      "source": [
        "df.groupby('town_name').size()\n",
        "df.groupby('town_name')['loan_approved'].sum()"
      ],
      "execution_count": 52,
      "outputs": [
        {
          "output_type": "execute_result",
          "data": {
            "text/plain": [
              "town_name\n",
              "Carlsbad         3821\n",
              "Chula Vista      3582\n",
              "Coronado         3655\n",
              "Del Mar          3956\n",
              "El Cajon         3599\n",
              "Escondido        3590\n",
              "La Mesa          3513\n",
              "National City    3571\n",
              "Oceanside        3505\n",
              "Poway            3754\n",
              "San Diego        3623\n",
              "Solana Beach     3641\n",
              "Name: loan_approved, dtype: int64"
            ]
          },
          "metadata": {},
          "execution_count": 52
        }
      ]
    },
    {
      "cell_type": "markdown",
      "metadata": {
        "id": "Nc545ftxdhU_"
      },
      "source": [
        "### Question 2.B: Does the likelihood of loan approval differ by gender in this data?\n",
        "\n",
        "_Double click to write your answer question here. Show your work in code below if applicable._\n",
        "\n",
        "% of female's approval is about 60% and % of male's approval is about 80%. I believe that 20% is significantly different."
      ]
    },
    {
      "cell_type": "code",
      "metadata": {
        "id": "pnk0AhcRdpJz",
        "outputId": "deaf7c14-9f81-4faf-9e16-2662167e4c32",
        "colab": {
          "base_uri": "https://localhost:8080/"
        }
      },
      "source": [
        "df.groupby('applicant_sex').size()\n",
        "df.groupby('applicant_sex')['loan_approved'].sum()"
      ],
      "execution_count": 31,
      "outputs": [
        {
          "output_type": "execute_result",
          "data": {
            "text/plain": [
              "applicant_sex\n",
              "Female                                                                               14311\n",
              "Information not provided by applicant in mail, Internet, or telephone application    10249\n",
              "Male                                                                                 19250\n",
              "Name: loan_approved, dtype: int64"
            ]
          },
          "metadata": {},
          "execution_count": 31
        }
      ]
    },
    {
      "cell_type": "markdown",
      "metadata": {
        "id": "o2DqKKOyflzA"
      },
      "source": [
        "### Question 2.C: Does the likelihood of loan approval differ by race in this data?\n",
        "\n",
        "_Double click to write your answer question here. Show your work in code below if applicable._\n",
        "\n",
        "Each percentage of approval by race is below\n",
        "\n",
        "American Indian or Alaska Native : 68.7 %\n",
        "\n",
        "Asian : 71.3 %\n",
        "\n",
        "Black or African American : 44.1 %\n",
        "\n",
        "Multiracial : 44.5 %\n",
        "\n",
        "Native Hawaiian or Pacific Islander 71.7\n",
        "\n",
        "White 74.8 %\n",
        "\n",
        "Black or African American and Multiracial has about 45% , whereas other races has about 70 %.\n",
        "\n",
        "Hence, It seems loan approval differ by race in this data.\n",
        "\n"
      ]
    },
    {
      "cell_type": "code",
      "metadata": {
        "id": "35ZK84WIfp_s",
        "outputId": "3059816f-ff12-4b8f-c772-54fadbdf44b7",
        "colab": {
          "base_uri": "https://localhost:8080/"
        }
      },
      "source": [
        "df.groupby('applicant_race').size()\n",
        "df.groupby('applicant_race')['loan_approved'].sum()"
      ],
      "execution_count": 54,
      "outputs": [
        {
          "output_type": "execute_result",
          "data": {
            "text/plain": [
              "applicant_race\n",
              "American Indian or Alaska Native                                                       336\n",
              "Asian                                                                                 3696\n",
              "Black or African American                                                             1077\n",
              "Information not provided by applicant in mail, Internet, or telephone application    10249\n",
              "Multiracial                                                                           2093\n",
              "Native Hawaiian or Other Pacific Islander                                              353\n",
              "White                                                                                26006\n",
              "Name: loan_approved, dtype: int64"
            ]
          },
          "metadata": {},
          "execution_count": 54
        }
      ]
    },
    {
      "cell_type": "markdown",
      "metadata": {
        "id": "2vzne623dr5M"
      },
      "source": [
        "### Question 2.D: Does the likelihood of loan approval differ by age in this data?\n",
        "\n",
        "_Double click to write your answer question here. Show your work in code below if applicable._\n",
        "\n",
        "We don't know if age affects loan approval, because there is no information of age of applicant or co-applicant in this data."
      ]
    },
    {
      "cell_type": "code",
      "metadata": {
        "id": "eJLGEoNodyTY",
        "outputId": "171eae1b-a070-44a4-cabb-41e1d8c8fffc",
        "colab": {
          "base_uri": "https://localhost:8080/",
          "height": 293
        }
      },
      "source": [
        "df.sample(5)"
      ],
      "execution_count": 79,
      "outputs": [
        {
          "output_type": "execute_result",
          "data": {
            "text/html": [
              "<div>\n",
              "<style scoped>\n",
              "    .dataframe tbody tr th:only-of-type {\n",
              "        vertical-align: middle;\n",
              "    }\n",
              "\n",
              "    .dataframe tbody tr th {\n",
              "        vertical-align: top;\n",
              "    }\n",
              "\n",
              "    .dataframe thead th {\n",
              "        text-align: right;\n",
              "    }\n",
              "</style>\n",
              "<table border=\"1\" class=\"dataframe\">\n",
              "  <thead>\n",
              "    <tr style=\"text-align: right;\">\n",
              "      <th></th>\n",
              "      <th>town_name</th>\n",
              "      <th>loan_amount_000s</th>\n",
              "      <th>applicant_income_000s</th>\n",
              "      <th>is_hoepa_loan</th>\n",
              "      <th>occupied_by_owner</th>\n",
              "      <th>loan_purpose_name</th>\n",
              "      <th>loan_approved</th>\n",
              "      <th>denial_reason</th>\n",
              "      <th>co_applicant_sex</th>\n",
              "      <th>co_applicant_race</th>\n",
              "      <th>applicant_sex</th>\n",
              "      <th>applicant_race</th>\n",
              "      <th>loan_amount_000s / applicant_income_000s</th>\n",
              "    </tr>\n",
              "  </thead>\n",
              "  <tbody>\n",
              "    <tr>\n",
              "      <th>34404</th>\n",
              "      <td>Chula Vista</td>\n",
              "      <td>640.032417</td>\n",
              "      <td>63.075441</td>\n",
              "      <td>1</td>\n",
              "      <td>1</td>\n",
              "      <td>Home purchase</td>\n",
              "      <td>1</td>\n",
              "      <td>NaN</td>\n",
              "      <td>No co-applicant</td>\n",
              "      <td>No co-applicant</td>\n",
              "      <td>Female</td>\n",
              "      <td>Asian</td>\n",
              "      <td>10.147094</td>\n",
              "    </tr>\n",
              "    <tr>\n",
              "      <th>52021</th>\n",
              "      <td>Solana Beach</td>\n",
              "      <td>3299.615855</td>\n",
              "      <td>417.909081</td>\n",
              "      <td>0</td>\n",
              "      <td>0</td>\n",
              "      <td>Home purchase</td>\n",
              "      <td>1</td>\n",
              "      <td>NaN</td>\n",
              "      <td>Male</td>\n",
              "      <td>White</td>\n",
              "      <td>Male</td>\n",
              "      <td>White</td>\n",
              "      <td>7.895535</td>\n",
              "    </tr>\n",
              "    <tr>\n",
              "      <th>49740</th>\n",
              "      <td>Solana Beach</td>\n",
              "      <td>3269.465986</td>\n",
              "      <td>370.132865</td>\n",
              "      <td>0</td>\n",
              "      <td>1</td>\n",
              "      <td>Home purchase</td>\n",
              "      <td>0</td>\n",
              "      <td>Credit application incomplete</td>\n",
              "      <td>Information not provided by applicant in mail,...</td>\n",
              "      <td>Information not provided by applicant in mail,...</td>\n",
              "      <td>Male</td>\n",
              "      <td>White</td>\n",
              "      <td>8.833223</td>\n",
              "    </tr>\n",
              "    <tr>\n",
              "      <th>48411</th>\n",
              "      <td>Coronado</td>\n",
              "      <td>1864.854745</td>\n",
              "      <td>397.094016</td>\n",
              "      <td>1</td>\n",
              "      <td>1</td>\n",
              "      <td>Home purchase</td>\n",
              "      <td>1</td>\n",
              "      <td>NaN</td>\n",
              "      <td>Male</td>\n",
              "      <td>White</td>\n",
              "      <td>Male</td>\n",
              "      <td>White</td>\n",
              "      <td>4.696255</td>\n",
              "    </tr>\n",
              "    <tr>\n",
              "      <th>2979</th>\n",
              "      <td>El Cajon</td>\n",
              "      <td>660.283664</td>\n",
              "      <td>66.236504</td>\n",
              "      <td>1</td>\n",
              "      <td>1</td>\n",
              "      <td>Refinancing</td>\n",
              "      <td>1</td>\n",
              "      <td>NaN</td>\n",
              "      <td>Female</td>\n",
              "      <td>White</td>\n",
              "      <td>Female</td>\n",
              "      <td>White</td>\n",
              "      <td>9.968577</td>\n",
              "    </tr>\n",
              "  </tbody>\n",
              "</table>\n",
              "</div>"
            ],
            "text/plain": [
              "          town_name  ...  loan_amount_000s / applicant_income_000s\n",
              "34404   Chula Vista  ...                                 10.147094\n",
              "52021  Solana Beach  ...                                  7.895535\n",
              "49740  Solana Beach  ...                                  8.833223\n",
              "48411      Coronado  ...                                  4.696255\n",
              "2979       El Cajon  ...                                  9.968577\n",
              "\n",
              "[5 rows x 13 columns]"
            ]
          },
          "metadata": {},
          "execution_count": 79
        }
      ]
    },
    {
      "cell_type": "markdown",
      "metadata": {
        "id": "c7j6rZri_VJE"
      },
      "source": [
        "### Question 2.D: Do you have enough information to determine if differential approval rates are an example of bias? Why or why not?"
      ]
    },
    {
      "cell_type": "markdown",
      "metadata": {
        "id": "nSXPUbp_BTIH"
      },
      "source": [
        "*Double click to write your answer here.*\n",
        "\n",
        "*   Not quite, even though we got the information that gender and race affect loan approval, those were only two factors that we can get. I guess we need at least 2~3 more factors that affect loan approval need to decided whether bias or not.\n"
      ]
    },
    {
      "cell_type": "markdown",
      "metadata": {
        "id": "nviFxr3-rZXj"
      },
      "source": [
        "## Part 3: Helping Others Understand Fairness & Bias\n",
        "\n",
        "Imagine that you work as a software engineer for a small credit union. Your boss has asked you to build a machine learning system to predict which home loan applications the credit union should approve. \n",
        "\n",
        "There are three possible data sets you could you use (included in the assignment materials in data.zip: home_loans_1, _2, and _3.csv). You need to design a visualization that will convince your boss to use the data set that you think is the right choice. \n",
        "\n",
        "### Part 3.A: List the four most important attributes of the datasets that you think should be considered to decide which dataset to use."
      ]
    },
    {
      "cell_type": "markdown",
      "metadata": {
        "id": "hmbjclfQg4EI"
      },
      "source": [
        "_Double click to write your answer question here._\n",
        "#1.  loan amount\n",
        "#2.  applicant income\n",
        "#3.  applicant sex\n",
        "#4.  applicant race"
      ]
    },
    {
      "cell_type": "markdown",
      "metadata": {
        "id": "8MCaFkTZg4W9"
      },
      "source": [
        "### Part 3.B: Sketch a visualization that your boss (who is not a software engineer) can understand, that will help your boss understand the dataset and the aspects of it that you consider important. \n"
      ]
    },
    {
      "cell_type": "markdown",
      "metadata": {
        "id": "n4NcLliIhFS8"
      },
      "source": [
        "_Attach a pdf with your sketches. Please include any annotations/description on the pdf itself (not in this notebook)._"
      ]
    }
  ]
}